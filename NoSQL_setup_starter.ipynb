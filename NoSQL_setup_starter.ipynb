{
 "cells": [
  {
   "cell_type": "markdown",
   "id": "9a57c4c6",
   "metadata": {},
   "source": [
    "# Eat Safe, Love"
   ]
  },
  {
   "cell_type": "markdown",
   "id": "d05f3c9c",
   "metadata": {},
   "source": [
    "# Import Data into MongoDB\n",
    "\n",
    "To import the data into MongoDB, I used the following `mongoimport` command in the terminal:\n",
    "\n",
    "```bash\n",
    "mongoimport --db uk_food --collection establishments --file establishments.json --jsonArray"
   ]
  },
  {
   "cell_type": "markdown",
   "id": "064ef857",
   "metadata": {},
   "source": [
    "## Part 1: Database and Jupyter Notebook Set Up"
   ]
  },
  {
   "cell_type": "markdown",
   "id": "664e3c1f",
   "metadata": {},
   "source": [
    "Import the data provided in the `establishments.json` file from your Terminal. Name the database `uk_food` and the collection `establishments`.\n",
    "\n",
    "Within this markdown cell, copy the line of text you used to import the data from your Terminal. This way, future analysts will be able to repeat your process.\n",
    "\n",
    "e.g.: Import the dataset with `YOUR IMPORT TEXT HERE`"
   ]
  },
  {
   "cell_type": "code",
   "execution_count": 1,
   "id": "3ecdd008",
   "metadata": {},
   "outputs": [],
   "source": [
    "# Import dependencies\n",
    "from pymongo import MongoClient\n",
    "from pprint import pprint"
   ]
  },
  {
   "cell_type": "code",
   "execution_count": 2,
   "id": "59390c4a",
   "metadata": {},
   "outputs": [],
   "source": [
    "# Create an instance of MongoClient\n",
    "mongo = MongoClient(port=27017)"
   ]
  },
  {
   "cell_type": "code",
   "execution_count": 3,
   "id": "7f9ececa",
   "metadata": {},
   "outputs": [
    {
     "name": "stdout",
     "output_type": "stream",
     "text": [
      "['admin', 'config', 'local', 'uk_food']\n"
     ]
    }
   ],
   "source": [
    "# confirm that our new database was created\n",
    "pprint(mongo.list_database_names())"
   ]
  },
  {
   "cell_type": "code",
   "execution_count": 4,
   "id": "71e373c1",
   "metadata": {},
   "outputs": [],
   "source": [
    "# assign the uk_food database to a variable name\n",
    "db = mongo['uk_food']"
   ]
  },
  {
   "cell_type": "code",
   "execution_count": 5,
   "id": "ef1b89ed",
   "metadata": {},
   "outputs": [
    {
     "data": {
      "text/plain": [
       "['establishments']"
      ]
     },
     "execution_count": 5,
     "metadata": {},
     "output_type": "execute_result"
    }
   ],
   "source": [
    "# review the collections in our new database\n",
    "db.list_collection_names()"
   ]
  },
  {
   "cell_type": "code",
   "execution_count": 6,
   "id": "6a0d92df",
   "metadata": {},
   "outputs": [
    {
     "name": "stdout",
     "output_type": "stream",
     "text": [
      "{'AddressLine1': 'The Bay',\n",
      " 'AddressLine2': 'St Margarets Bay',\n",
      " 'AddressLine3': 'Kent',\n",
      " 'AddressLine4': '',\n",
      " 'BusinessName': 'Refreshment Kiosk',\n",
      " 'BusinessType': 'Restaurant/Cafe/Canteen',\n",
      " 'BusinessTypeID': 1,\n",
      " 'ChangesByServerID': 0,\n",
      " 'Distance': 4587.347174863443,\n",
      " 'FHRSID': 254719,\n",
      " 'LocalAuthorityBusinessID': 'PI/000069980',\n",
      " 'LocalAuthorityCode': '182',\n",
      " 'LocalAuthorityEmailAddress': 'publicprotection@dover.gov.uk',\n",
      " 'LocalAuthorityName': 'Dover',\n",
      " 'LocalAuthorityWebSite': 'http://www.dover.gov.uk/',\n",
      " 'NewRatingPending': False,\n",
      " 'Phone': '',\n",
      " 'PostCode': 'CT15 6DY',\n",
      " 'RatingDate': '2022-03-24T00:00:00',\n",
      " 'RatingKey': 'fhrs_5_en-gb',\n",
      " 'RatingValue': '5',\n",
      " 'RightToReply': '',\n",
      " 'SchemeType': 'FHRS',\n",
      " '_id': ObjectId('6594fe19bc0c9ec7bb379c6d'),\n",
      " 'geocode': {'latitude': '51.152225', 'longitude': '1.387974'},\n",
      " 'links': [{'href': 'https://api.ratings.food.gov.uk/establishments/254719',\n",
      "            'rel': 'self'}],\n",
      " 'meta': {'dataSource': None,\n",
      "          'extractDate': '0001-01-01T00:00:00',\n",
      "          'itemCount': 0,\n",
      "          'pageNumber': 0,\n",
      "          'pageSize': 0,\n",
      "          'returncode': None,\n",
      "          'totalCount': 0,\n",
      "          'totalPages': 0},\n",
      " 'scores': {'ConfidenceInManagement': 5, 'Hygiene': 0, 'Structural': 5}}\n"
     ]
    }
   ],
   "source": [
    "# review a document in the establishments collection\n",
    "document = db.establishments.find_one()\n",
    "\n",
    "pprint(document)"
   ]
  },
  {
   "cell_type": "code",
   "execution_count": 7,
   "id": "11c9f11b",
   "metadata": {},
   "outputs": [],
   "source": [
    "# assign the collection to a variable\n",
    "establishments = db['establishments']"
   ]
  },
  {
   "cell_type": "markdown",
   "id": "d5671434",
   "metadata": {},
   "source": [
    "## Part 2: Update the Database"
   ]
  },
  {
   "cell_type": "markdown",
   "id": "314bd884",
   "metadata": {},
   "source": [
    "1. An exciting new halal restaurant just opened in Greenwich, but hasn't been rated yet. The magazine has asked you to include it in your analysis. Add the following restaurant \"Penang Flavours\" to the database."
   ]
  },
  {
   "cell_type": "code",
   "execution_count": 8,
   "id": "c2da7648",
   "metadata": {},
   "outputs": [],
   "source": [
    "# Create a dictionary for the new restaurant data\n",
    "new_restaurant_data = {\n",
    "    \"name\": \"Penang Flavours\",\n",
    "    \"location\": {\n",
    "        \"type\": \"Point\",\n",
    "        \"coordinates\": [float(\"0.08384000\"), float(\"51.49014200\")]\n",
    "    },\n",
    "    \"cuisine\": \"Halal\",\n",
    "    \"rating\": None,  # The restaurant hasn't been rated yet\n",
    "    \"address\": {\n",
    "        \"line1\": \"Penang Flavours\",\n",
    "        \"line2\": \"146A Plumstead Rd\",\n",
    "        \"city\": \"London\",\n",
    "        \"postcode\": \"SE18 7DY\"\n",
    "    },\n",
    "    \"phone\": \"\",\n",
    "    \"local_authority\": {\n",
    "        \"code\": \"511\",\n",
    "        \"name\": \"Greenwich\",\n",
    "        \"website\": \"http://www.royalgreenwich.gov.uk\",\n",
    "        \"email\": \"health@royalgreenwich.gov.uk\"\n",
    "    },\n",
    "    \"scores\": {\n",
    "        \"hygiene\": \"\",\n",
    "        \"structural\": \"\",\n",
    "        \"confidence_in_management\": \"\"\n",
    "    },\n",
    "    \"scheme_type\": \"FHRS\",\n",
    "    \"geocode\": {\n",
    "        \"longitude\": \"0.08384000\",\n",
    "        \"latitude\": \"51.49014200\"\n",
    "    },\n",
    "    \"right_to_reply\": \"\",\n",
    "    \"distance\": 4623.9723280747176,\n",
    "    \"new_rating_pending\": True\n",
    "}\n"
   ]
  },
  {
   "cell_type": "code",
   "execution_count": 9,
   "id": "a6e5cece",
   "metadata": {},
   "outputs": [],
   "source": [
    "# Insert the new restaurant into the collection\n",
    "result = db.establishments.insert_one(new_restaurant_data)"
   ]
  },
  {
   "cell_type": "code",
   "execution_count": 10,
   "id": "63bb10f9",
   "metadata": {},
   "outputs": [
    {
     "name": "stdout",
     "output_type": "stream",
     "text": [
      "Inserted new restaurant with id: 6594fe67b2c97263dc30ba43\n"
     ]
    }
   ],
   "source": [
    "# Check that the new restaurant was inserted\n",
    "print(f\"Inserted new restaurant with id: {result.inserted_id}\")"
   ]
  },
  {
   "cell_type": "markdown",
   "id": "0ef4395a",
   "metadata": {},
   "source": [
    "2. Find the BusinessTypeID for \"Restaurant/Cafe/Canteen\" and return only the `BusinessTypeID` and `BusinessType` fields."
   ]
  },
  {
   "cell_type": "code",
   "execution_count": 11,
   "id": "93c63829",
   "metadata": {},
   "outputs": [],
   "source": [
    "# Find the BusinessTypeID for \"Restaurant/Cafe/Canteen\" and return only the BusinessTypeID and BusinessType fields\n",
    "query = {\"BusinessType\": \"Restaurant/Cafe/Canteen\"}\n",
    "projection = {\"BusinessTypeID\": 1, \"BusinessType\": 1, \"_id\": 0}\n",
    "result = db.establishments.find_one(query, projection)\n",
    "business_type_id = result.get(\"BusinessTypeID\")\n"
   ]
  },
  {
   "cell_type": "markdown",
   "id": "4e570caf",
   "metadata": {},
   "source": [
    "3. Update the new restaurant with the `BusinessTypeID` you found."
   ]
  },
  {
   "cell_type": "code",
   "execution_count": 12,
   "id": "7f599f3d",
   "metadata": {},
   "outputs": [],
   "source": [
    "# Update the new restaurant with the correct BusinessTypeID\n",
    "update_query = {\"name\": \"Penang Flavours\"}\n",
    "update_data = {\"$set\": {\"BusinessTypeID\": business_type_id}}"
   ]
  },
  {
   "cell_type": "code",
   "execution_count": 13,
   "id": "a6ad16f7",
   "metadata": {},
   "outputs": [
    {
     "name": "stdout",
     "output_type": "stream",
     "text": [
      "Modified 1 document\n"
     ]
    }
   ],
   "source": [
    "# Confirm that the new restaurant was updated\n",
    "update_result = db.establishments.update_one(update_query, update_data)\n",
    "print(f\"Modified {update_result.modified_count} document\")"
   ]
  },
  {
   "cell_type": "markdown",
   "id": "67281254",
   "metadata": {},
   "source": [
    "4. The magazine is not interested in any establishments in Dover, so check how many documents contain the Dover Local Authority. Then, remove any establishments within the Dover Local Authority from the database, and check the number of documents to ensure they were deleted."
   ]
  },
  {
   "cell_type": "code",
   "execution_count": 14,
   "id": "768474a6",
   "metadata": {},
   "outputs": [
    {
     "name": "stdout",
     "output_type": "stream",
     "text": [
      "Number of documents with LocalAuthorityName as Dover: 994\n"
     ]
    }
   ],
   "source": [
    "# Find how many documents have LocalAuthorityName as \"Dover\"\n",
    "query = {\"LocalAuthorityName\": \"Dover\"}\n",
    "count_dover = db.establishments.count_documents(query)\n",
    "print(f\"Number of documents with LocalAuthorityName as Dover: {count_dover}\")"
   ]
  },
  {
   "cell_type": "code",
   "execution_count": 15,
   "id": "a11d5f1b",
   "metadata": {},
   "outputs": [
    {
     "name": "stdout",
     "output_type": "stream",
     "text": [
      "Deleted 994 documents where LocalAuthorityName is Dover\n"
     ]
    }
   ],
   "source": [
    "# Delete all documents where LocalAuthorityName is \"Dover\"\n",
    "query = {\"LocalAuthorityName\": \"Dover\"}\n",
    "delete_result = db.establishments.delete_many(query)\n",
    "print(f\"Deleted {delete_result.deleted_count} documents where LocalAuthorityName is Dover\")"
   ]
  },
  {
   "cell_type": "code",
   "execution_count": 16,
   "id": "2a51aba0",
   "metadata": {},
   "outputs": [
    {
     "name": "stdout",
     "output_type": "stream",
     "text": [
      "No remaining documents with LocalAuthorityName as Dover.\n"
     ]
    }
   ],
   "source": [
    "# Check if any remaining documents include Dover\n",
    "remaining_documents_query = {\"LocalAuthorityName\": \"Dover\"}\n",
    "remaining_documents_count = db.establishments.count_documents(remaining_documents_query)\n",
    "\n",
    "if remaining_documents_count > 0:\n",
    "    print(f\"There are still {remaining_documents_count} documents with LocalAuthorityName as Dover.\")\n",
    "else:\n",
    "    print(\"No remaining documents with LocalAuthorityName as Dover.\")"
   ]
  },
  {
   "cell_type": "code",
   "execution_count": 17,
   "id": "8c356f7b",
   "metadata": {},
   "outputs": [
    {
     "name": "stdout",
     "output_type": "stream",
     "text": [
      "At least one remaining document:\n",
      "{'AddressLine1': 'Wear Bay Road',\n",
      " 'AddressLine2': 'Folkestone',\n",
      " 'AddressLine3': 'Kent',\n",
      " 'AddressLine4': '',\n",
      " 'BusinessName': 'Wear Bay Bowls Club',\n",
      " 'BusinessType': 'Pub/bar/nightclub',\n",
      " 'BusinessTypeID': 7843,\n",
      " 'ChangesByServerID': 0,\n",
      " 'Distance': 4591.821311183521,\n",
      " 'FHRSID': 647177,\n",
      " 'LocalAuthorityBusinessID': 'PI/000041489',\n",
      " 'LocalAuthorityCode': '188',\n",
      " 'LocalAuthorityEmailAddress': 'foodteam@folkestone-hythe.gov.uk',\n",
      " 'LocalAuthorityName': 'Folkestone and Hythe',\n",
      " 'LocalAuthorityWebSite': 'http://www.folkestone-hythe.gov.uk',\n",
      " 'NewRatingPending': False,\n",
      " 'Phone': '',\n",
      " 'PostCode': 'CT19 6PY',\n",
      " 'RatingDate': '2014-03-31T00:00:00',\n",
      " 'RatingKey': 'fhrs_4_en-gb',\n",
      " 'RatingValue': '4',\n",
      " 'RightToReply': '',\n",
      " 'SchemeType': 'FHRS',\n",
      " '_id': ObjectId('6594fe19bc0c9ec7bb379f4c'),\n",
      " 'geocode': {'latitude': '51.086058', 'longitude': '1.196408'},\n",
      " 'links': [{'href': 'https://api.ratings.food.gov.uk/establishments/647177',\n",
      "            'rel': 'self'}],\n",
      " 'meta': {'dataSource': None,\n",
      "          'extractDate': '0001-01-01T00:00:00',\n",
      "          'itemCount': 0,\n",
      "          'pageNumber': 0,\n",
      "          'pageSize': 0,\n",
      "          'returncode': None,\n",
      "          'totalCount': 0,\n",
      "          'totalPages': 0},\n",
      " 'scores': {'ConfidenceInManagement': 10, 'Hygiene': 5, 'Structural': 5}}\n"
     ]
    }
   ],
   "source": [
    "# Check that other documents remain with 'find_one'\n",
    "remaining_document = db.establishments.find_one()\n",
    "\n",
    "if remaining_document:\n",
    "    print(\"At least one remaining document:\")\n",
    "    pprint(remaining_document)\n",
    "else:\n",
    "    print(\"No remaining documents.\")"
   ]
  },
  {
   "cell_type": "markdown",
   "id": "e9f1662d",
   "metadata": {},
   "source": [
    "5. Some of the number values are stored as strings, when they should be stored as numbers."
   ]
  },
  {
   "cell_type": "markdown",
   "id": "c46df2df",
   "metadata": {},
   "source": [
    "Use `update_many` to convert `latitude` and `longitude` to decimal numbers."
   ]
  },
  {
   "cell_type": "code",
   "execution_count": 18,
   "id": "fd4112ce",
   "metadata": {},
   "outputs": [],
   "source": [
    "# Change the data type from String to Decimal for longitude and latitude\n",
    "from decimal import Decimal\n",
    "\n",
    "# Update the data type from String to Decimal for longitude and latitude\n",
    "update_query = {\"geocode.longitude\": {\"$type\": \"string\"}, \"geocode.latitude\": {\"$type\": \"string\"}}\n",
    "update_data = {\"$set\": {\n",
    "    \"geocode.longitude\": {\"$toDouble\": \"$geocode.longitude\"},\n",
    "    \"geocode.latitude\": {\"$toDouble\": \"$geocode.latitude\"}\n",
    "}}\n",
    "\n",
    "# Perform the update\n",
    "update_result = db.establishments.update_many(update_query, update_data)\n"
   ]
  },
  {
   "cell_type": "markdown",
   "id": "142e319c",
   "metadata": {},
   "source": [
    "Use `update_many` to convert `RatingValue` to integer numbers."
   ]
  },
  {
   "cell_type": "code",
   "execution_count": 19,
   "id": "04430a5b",
   "metadata": {},
   "outputs": [],
   "source": [
    "# Set non 1-5 Rating Values to Null\n",
    "non_ratings = [\"AwaitingInspection\", \"Awaiting Inspection\", \"AwaitingPublication\", \"Pass\", \"Exempt\"]\n",
    "update_query = {\"RatingValue\": {\"$in\": non_ratings}}\n",
    "update_data = {\"$set\": {\"RatingValue\": None}}\n"
   ]
  },
  {
   "cell_type": "code",
   "execution_count": 20,
   "id": "92524ccc",
   "metadata": {},
   "outputs": [],
   "source": [
    "# Change the data type from String to Integer for RatingValue\n",
    "update_query = {\"RatingValue\": {\"$type\": \"string\", \"$exists\": True}}\n",
    "update_data = {\"$set\": {\"RatingValue\": {\"$toInt\": \"$RatingValue\"}}}\n",
    "\n",
    "# Perform the update\n",
    "update_result = db.establishments.update_many(update_query, update_data)\n"
   ]
  },
  {
   "cell_type": "code",
   "execution_count": 21,
   "id": "0deacaf9",
   "metadata": {},
   "outputs": [
    {
     "name": "stdout",
     "output_type": "stream",
     "text": [
      "Sample Document:\n",
      "{'AddressLine1': 'Wear Bay Road',\n",
      " 'AddressLine2': 'Folkestone',\n",
      " 'AddressLine3': 'Kent',\n",
      " 'AddressLine4': '',\n",
      " 'BusinessName': 'Wear Bay Bowls Club',\n",
      " 'BusinessType': 'Pub/bar/nightclub',\n",
      " 'BusinessTypeID': 7843,\n",
      " 'ChangesByServerID': 0,\n",
      " 'Distance': 4591.821311183521,\n",
      " 'FHRSID': 647177,\n",
      " 'LocalAuthorityBusinessID': 'PI/000041489',\n",
      " 'LocalAuthorityCode': '188',\n",
      " 'LocalAuthorityEmailAddress': 'foodteam@folkestone-hythe.gov.uk',\n",
      " 'LocalAuthorityName': 'Folkestone and Hythe',\n",
      " 'LocalAuthorityWebSite': 'http://www.folkestone-hythe.gov.uk',\n",
      " 'NewRatingPending': False,\n",
      " 'Phone': '',\n",
      " 'PostCode': 'CT19 6PY',\n",
      " 'RatingDate': '2014-03-31T00:00:00',\n",
      " 'RatingKey': 'fhrs_4_en-gb',\n",
      " 'RatingValue': {'$toInt': '$RatingValue'},\n",
      " 'RightToReply': '',\n",
      " 'SchemeType': 'FHRS',\n",
      " '_id': ObjectId('6594fe19bc0c9ec7bb379f4c'),\n",
      " 'geocode': {'latitude': {'$toDouble': '$geocode.latitude'},\n",
      "             'longitude': {'$toDouble': '$geocode.longitude'}},\n",
      " 'links': [{'href': 'https://api.ratings.food.gov.uk/establishments/647177',\n",
      "            'rel': 'self'}],\n",
      " 'meta': {'dataSource': None,\n",
      "          'extractDate': '0001-01-01T00:00:00',\n",
      "          'itemCount': 0,\n",
      "          'pageNumber': 0,\n",
      "          'pageSize': 0,\n",
      "          'returncode': None,\n",
      "          'totalCount': 0,\n",
      "          'totalPages': 0},\n",
      " 'scores': {'ConfidenceInManagement': 10, 'Hygiene': 5, 'Structural': 5}}\n"
     ]
    }
   ],
   "source": [
    "# Check that the coordinates and rating value are now numbers\n",
    "sample_document = db.establishments.find_one()\n",
    "\n",
    "if sample_document:\n",
    "    print(\"Sample Document:\")\n",
    "    pprint(sample_document)\n",
    "else:\n",
    "    print(\"No documents found.\")\n"
   ]
  },
  {
   "cell_type": "code",
   "execution_count": null,
   "id": "cc44eb3d",
   "metadata": {},
   "outputs": [],
   "source": []
  }
 ],
 "metadata": {
  "kernelspec": {
   "display_name": "Python 3 (ipykernel)",
   "language": "python",
   "name": "python3"
  },
  "language_info": {
   "codemirror_mode": {
    "name": "ipython",
    "version": 3
   },
   "file_extension": ".py",
   "mimetype": "text/x-python",
   "name": "python",
   "nbconvert_exporter": "python",
   "pygments_lexer": "ipython3",
   "version": "3.11.5"
  }
 },
 "nbformat": 4,
 "nbformat_minor": 5
}
